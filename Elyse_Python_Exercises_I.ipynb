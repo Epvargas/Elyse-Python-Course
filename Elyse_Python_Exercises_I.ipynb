{
  "nbformat": 4,
  "nbformat_minor": 0,
  "metadata": {
    "colab": {
      "name": "Elyse Python Exercises I",
      "provenance": [],
      "collapsed_sections": [],
      "authorship_tag": "ABX9TyOeHFvgwWWzQ3vnRHZu6tgC",
      "include_colab_link": true
    },
    "kernelspec": {
      "name": "python3",
      "display_name": "Python 3"
    }
  },
  "cells": [
    {
      "cell_type": "markdown",
      "metadata": {
        "id": "view-in-github",
        "colab_type": "text"
      },
      "source": [
        "<a href=\"https://colab.research.google.com/github/Epvargas/Elyse-Python-Course/blob/main/Elyse_Python_Exercises_I.ipynb\" target=\"_parent\"><img src=\"https://colab.research.google.com/assets/colab-badge.svg\" alt=\"Open In Colab\"/></a>"
      ]
    },
    {
      "cell_type": "code",
      "metadata": {
        "id": "gvzD0jLxEfrH"
      },
      "source": [
        ""
      ],
      "execution_count": null,
      "outputs": []
    },
    {
      "cell_type": "code",
      "metadata": {
        "id": "DkD4O1acWix8",
        "colab": {
          "base_uri": "https://localhost:8080/"
        },
        "outputId": "cfb71031-07e9-437c-e6cd-ac3d60c4ec44"
      },
      "source": [
        "# Or text\n",
        "b = \"This is some text\"\n",
        "print(b)"
      ],
      "execution_count": null,
      "outputs": [
        {
          "output_type": "stream",
          "text": [
            "This is some text\n"
          ],
          "name": "stdout"
        }
      ]
    },
    {
      "cell_type": "code",
      "metadata": {
        "colab": {
          "base_uri": "https://localhost:8080/"
        },
        "id": "mvLgpwu-E60S",
        "outputId": "c55e7ce7-1356-4a3b-903b-426377d416ab"
      },
      "source": [
        "# Float variable (Non integer digits)\n",
        "a = 5.0\n",
        "print(a)\n",
        "type (a)\n",
        "print(type(a))\n"
      ],
      "execution_count": null,
      "outputs": [
        {
          "output_type": "stream",
          "text": [
            "5.0\n",
            "<class 'float'>\n"
          ],
          "name": "stdout"
        }
      ]
    },
    {
      "cell_type": "code",
      "metadata": {
        "colab": {
          "base_uri": "https://localhost:8080/"
        },
        "id": "lxVCj3ZVE6ji",
        "outputId": "a5155498-ed28-4f47-a936-9304136b72d6"
      },
      "source": [
        "# Boolean variable (True or False)\n",
        "a = True\n",
        "print(a)\n",
        "print(type(a))"
      ],
      "execution_count": null,
      "outputs": [
        {
          "output_type": "stream",
          "text": [
            "True\n",
            "<class 'bool'>\n"
          ],
          "name": "stdout"
        }
      ]
    },
    {
      "cell_type": "code",
      "metadata": {
        "colab": {
          "base_uri": "https://localhost:8080/"
        },
        "id": "8rGz3RAiFcx6",
        "outputId": "b3d62620-0514-44ab-cd69-3f52f66e6226"
      },
      "source": [
        "# string variables\n",
        "x = \"1\"\n",
        "y = \"2\"\n",
        "z = x + y\n",
        "print(z)\n",
        "print(type(z))"
      ],
      "execution_count": null,
      "outputs": [
        {
          "output_type": "stream",
          "text": [
            "12\n",
            "<class 'str'>\n"
          ],
          "name": "stdout"
        }
      ]
    },
    {
      "cell_type": "code",
      "metadata": {
        "colab": {
          "base_uri": "https://localhost:8080/"
        },
        "id": "ByU9Z1pkFePw",
        "outputId": "212ae443-9bfd-41ec-8bbc-a889b818f10b"
      },
      "source": [
        "# A Simple array or integers\n",
        "a = [1,2,3]\n",
        "print(a)"
      ],
      "execution_count": null,
      "outputs": [
        {
          "output_type": "stream",
          "text": [
            "[1, 2, 3]\n"
          ],
          "name": "stdout"
        }
      ]
    },
    {
      "cell_type": "code",
      "metadata": {
        "colab": {
          "base_uri": "https://localhost:8080/"
        },
        "id": "ei2ArflMFsuA",
        "outputId": "3ce08463-e8c2-4f28-92cb-73f2cdb67990"
      },
      "source": [
        "# Storing variables of different types is possible -- Un arreglo\n",
        "b =  [\"Text\", 4, 2.5]\n",
        "print(b)"
      ],
      "execution_count": null,
      "outputs": [
        {
          "output_type": "stream",
          "text": [
            "['Text', 4, 2.5]\n"
          ],
          "name": "stdout"
        }
      ]
    },
    {
      "cell_type": "code",
      "metadata": {
        "colab": {
          "base_uri": "https://localhost:8080/"
        },
        "id": "-sICrFXaIGpC",
        "outputId": "28508463-30b6-4881-d267-6539fc6aab16"
      },
      "source": [
        "# Indexing Lists or accessing specific variables/locations in the list\n",
        "\n",
        "# How to print the first element?\n",
        "print(a[0])\n",
        "print(a[1])\n",
        "print(a[2])\n",
        "# Note lists always start at index or position 0, so a list that holds 3 numbers can be indexed with 0,1 & 2"
      ],
      "execution_count": null,
      "outputs": [
        {
          "output_type": "stream",
          "text": [
            "1\n",
            "2\n",
            "3\n"
          ],
          "name": "stdout"
        }
      ]
    },
    {
      "cell_type": "code",
      "metadata": {
        "colab": {
          "base_uri": "https://localhost:8080/"
        },
        "id": "qw-lsNAXJDHh",
        "outputId": "633fecdd-d532-487d-a8e3-4a642988bd68"
      },
      "source": [
        "print(b[0])\n",
        "print(b[1])\n",
        "print(b[2])\n",
        "\n",
        "b\n",
        "type(b)"
      ],
      "execution_count": null,
      "outputs": [
        {
          "output_type": "stream",
          "text": [
            "Text\n",
            "4\n",
            "2.5\n"
          ],
          "name": "stdout"
        },
        {
          "output_type": "execute_result",
          "data": {
            "text/plain": [
              "list"
            ]
          },
          "metadata": {
            "tags": []
          },
          "execution_count": 16
        }
      ]
    },
    {
      "cell_type": "code",
      "metadata": {
        "id": "xs8Rog0jI9Id"
      },
      "source": [
        ""
      ],
      "execution_count": null,
      "outputs": []
    },
    {
      "cell_type": "code",
      "metadata": {
        "colab": {
          "base_uri": "https://localhost:8080/"
        },
        "id": "xfxYN2knKvMO",
        "outputId": "3c8ebecd-8020-42d6-898e-c33c93f3768a"
      },
      "source": [
        "# Storing more elements onto your list using *apend*\n",
        "\n",
        "a.append(4)\n",
        "print(a)\n",
        "\n",
        "print(len(a))"
      ],
      "execution_count": null,
      "outputs": [
        {
          "output_type": "stream",
          "text": [
            "[1, 2, 3, 4, 4]\n",
            "5\n"
          ],
          "name": "stdout"
        }
      ]
    },
    {
      "cell_type": "code",
      "metadata": {
        "colab": {
          "base_uri": "https://localhost:8080/"
        },
        "id": "Gy25Zf0hK6AO",
        "outputId": "ea2aa702-bf76-49c6-f3f9-0bdb0dfe1586"
      },
      "source": [
        "# Changing the value of an element in a list\n",
        "\n",
        "a[3] = 5\n",
        "print(a)"
      ],
      "execution_count": null,
      "outputs": [
        {
          "output_type": "stream",
          "text": [
            "[1, 2, 3, 5, 4]\n"
          ],
          "name": "stdout"
        }
      ]
    },
    {
      "cell_type": "code",
      "metadata": {
        "colab": {
          "base_uri": "https://localhost:8080/",
          "height": 35
        },
        "id": "9PpqblMuLNeZ",
        "outputId": "4cc3b337-4b8d-4de8-b9ee-5ce1285816f6"
      },
      "source": [
        "pwd\n"
      ],
      "execution_count": null,
      "outputs": [
        {
          "output_type": "execute_result",
          "data": {
            "application/vnd.google.colaboratory.intrinsic+json": {
              "type": "string"
            },
            "text/plain": [
              "'/content'"
            ]
          },
          "metadata": {
            "tags": []
          },
          "execution_count": 20
        }
      ]
    },
    {
      "cell_type": "code",
      "metadata": {
        "colab": {
          "base_uri": "https://localhost:8080/"
        },
        "id": "wKlMQbsZLZ7C",
        "outputId": "a44fa25a-742e-4c5d-c569-8ed1748169ed"
      },
      "source": [
        "# Changing the value of an element in a list\n",
        "\n",
        "a[4] = 1\n",
        "print(a)\n",
        "\n",
        "len (a)"
      ],
      "execution_count": null,
      "outputs": [
        {
          "output_type": "stream",
          "text": [
            "[1, 2, 3, 5, 1]\n"
          ],
          "name": "stdout"
        },
        {
          "output_type": "execute_result",
          "data": {
            "text/plain": [
              "5"
            ]
          },
          "metadata": {
            "tags": []
          },
          "execution_count": 27
        }
      ]
    },
    {
      "cell_type": "code",
      "metadata": {
        "colab": {
          "base_uri": "https://localhost:8080/"
        },
        "id": "t2vEMA7pMhh2",
        "outputId": "d82d22a9-2fa1-45d9-8ae0-70c04f07cc6e"
      },
      "source": [
        "# Slicing lists is a technique used to get elements from, before or between different indices\n",
        "\n",
        "print(a)\n",
        "\n",
        "print(\"All elelemts: \", a[:])\n",
        "print(\"All elements from the 3rd position onward: \", a[2:])\n",
        "print(\"All elements between the 2nd and 4th position: \", a[1:3])\n",
        "print(\"All elements before the last postion\", a[:-1])\n",
        "\n",
        "# Very useful guide: --- Importante a tener en cuenta\n",
        "\n",
        "#a[start:stop]  # items start through stop-1\n",
        "#a[start:]      # items start through the rest of the array\n",
        "#a[:stop]       # items from the beginning through stop-1\n",
        "#a[:]           # a copy of the whole array"
      ],
      "execution_count": null,
      "outputs": [
        {
          "output_type": "stream",
          "text": [
            "[1, 2, 3, 5, 1]\n",
            "All elelemts:  [1, 2, 3, 5, 1]\n",
            "All elements from the 3rd position onward:  [3, 5, 1]\n",
            "All elements between the 2nd and 4th position:  [2, 3]\n",
            "All elements before the last postion [1, 2, 3, 5]\n"
          ],
          "name": "stdout"
        }
      ]
    },
    {
      "cell_type": "code",
      "metadata": {
        "colab": {
          "base_uri": "https://localhost:8080/"
        },
        "id": "aX_asiQrNmb4",
        "outputId": "6c5e6a39-42f6-4212-9145-403d479f1d87"
      },
      "source": [
        "# Creating a dictionary {\"Key\": \"Value\"}\n",
        "country_info = {\"Country Name\": \"Japan\", \n",
        "                \"capital\": \"Tokyo\"} \n",
        "\n",
        "#country_info = {\"Country Name\": [\"Japan\", \"Canada\"], \"capital\": [\"Tokyo\", \"Ottawa\"]} \n",
        "\n",
        "print(country_info)\n",
        "\n",
        "print(country_info[\"Country Name\"])\n",
        "print(country_info[\"capital\"])"
      ],
      "execution_count": null,
      "outputs": [
        {
          "output_type": "stream",
          "text": [
            "{'Country Name': 'Japan', 'capital': 'Tokyo'}\n",
            "Japan\n",
            "Tokyo\n"
          ],
          "name": "stdout"
        }
      ]
    },
    {
      "cell_type": "code",
      "metadata": {
        "colab": {
          "base_uri": "https://localhost:8080/"
        },
        "id": "rJy_I_7YqJCN",
        "outputId": "0e9df63b-d3b0-4eb6-b25f-056fe16dd46c"
      },
      "source": [
        "# We can store multiple values and easily add information to our dictionary\n",
        "\n",
        "country_info['population'] = '126.8M'\n",
        "print(country_info)"
      ],
      "execution_count": null,
      "outputs": [
        {
          "output_type": "stream",
          "text": [
            "{'Country Name': 'Japan', 'capital': 'Tokyo', 'population': '126.8M'}\n"
          ],
          "name": "stdout"
        }
      ]
    },
    {
      "cell_type": "code",
      "metadata": {
        "colab": {
          "base_uri": "https://localhost:8080/"
        },
        "id": "SjHeguocqO-q",
        "outputId": "3d0414e3-420c-4baf-b36d-89d71c78bede"
      },
      "source": [
        "# We can also change values easily\n",
        "\n",
        "country_info['population'] = '100M'\n",
        "print(country_info)"
      ],
      "execution_count": null,
      "outputs": [
        {
          "output_type": "stream",
          "text": [
            "{'Country Name': 'Japan', 'capital': 'Tokyo', 'population': '100M'}\n"
          ],
          "name": "stdout"
        }
      ]
    },
    {
      "cell_type": "code",
      "metadata": {
        "colab": {
          "base_uri": "https://localhost:8080/"
        },
        "id": "NZY1QCFTqXz6",
        "outputId": "88a3e0bd-1410-447b-a607-c293656d7532"
      },
      "source": [
        "# Values can be of any data type\n",
        "\n",
        "country_info['regions'] = ['Hokkaido', 'Tohoku', 'Kanto', 'Chubu', 'Kinki', 'Chugoku', 'Shikoku', 'Kyushu-Okinawa']\n",
        "print(country_info)"
      ],
      "execution_count": null,
      "outputs": [
        {
          "output_type": "stream",
          "text": [
            "{'Country Name': 'Japan', 'capital': 'Tokyo', 'population': '100M', 'regions': ['Hokkaido', 'Tohoku', 'Kanto', 'Chubu', 'Kinki', 'Chugoku', 'Shikoku', 'Kyushu-Okinawa']}\n"
          ],
          "name": "stdout"
        }
      ]
    },
    {
      "cell_type": "code",
      "metadata": {
        "colab": {
          "base_uri": "https://localhost:8080/"
        },
        "id": "xtEqfHuYqeLx",
        "outputId": "c66da8d7-35d8-4383-ac0f-a9cfcda2bcf0"
      },
      "source": [
        "# Values can be of any data type - Even Dictionaries, these are called nested dictionaries\n",
        "\n",
        "country_info['health'] = {\"life_expectancy\": 84.1, \"birth_rate\": 1.44}\n",
        "print(country_info)"
      ],
      "execution_count": null,
      "outputs": [
        {
          "output_type": "stream",
          "text": [
            "{'Country Name': 'Japan', 'capital': 'Tokyo', 'population': '100M', 'regions': ['Hokkaido', 'Tohoku', 'Kanto', 'Chubu', 'Kinki', 'Chugoku', 'Shikoku', 'Kyushu-Okinawa'], 'health': {'life_expectancy': 84.1, 'birth_rate': 1.44}}\n"
          ],
          "name": "stdout"
        }
      ]
    },
    {
      "cell_type": "code",
      "metadata": {
        "colab": {
          "base_uri": "https://localhost:8080/"
        },
        "id": "kyfUkLwpw-mu",
        "outputId": "88ff2e27-491a-4377-a2d0-8696c26e4ebc"
      },
      "source": [
        "# Accessing data in our nested dictionary\n",
        "\n",
        "country_info['health']['life_expectancy']"
      ],
      "execution_count": null,
      "outputs": [
        {
          "output_type": "execute_result",
          "data": {
            "text/plain": [
              "84.1"
            ]
          },
          "metadata": {
            "tags": []
          },
          "execution_count": 72
        }
      ]
    },
    {
      "cell_type": "code",
      "metadata": {
        "colab": {
          "base_uri": "https://localhost:8080/"
        },
        "id": "7niAvWOqxB0k",
        "outputId": "1156ae7c-a764-4ddc-ad2c-fb39510d9e42"
      },
      "source": [
        "country_info.keys()\n",
        "print (country_info.keys())\n",
        "#country_info.values()\n",
        "print (country_info.values())\n",
        "\n",
        "print (country_info.items())"
      ],
      "execution_count": null,
      "outputs": [
        {
          "output_type": "stream",
          "text": [
            "dict_keys(['Country Name', 'capital', 'population', 'regions', 'health'])\n",
            "dict_values(['Japan', 'Tokyo', '100M', ['Hokkaido', 'Tohoku', 'Kanto', 'Chubu', 'Kinki', 'Chugoku', 'Shikoku', 'Kyushu-Okinawa'], {'life_expectancy': 84.1, 'birth_rate': 1.44}])\n",
            "dict_items([('Country Name', 'Japan'), ('capital', 'Tokyo'), ('population', '100M'), ('regions', ['Hokkaido', 'Tohoku', 'Kanto', 'Chubu', 'Kinki', 'Chugoku', 'Shikoku', 'Kyushu-Okinawa']), ('health', {'life_expectancy': 84.1, 'birth_rate': 1.44})])\n"
          ],
          "name": "stdout"
        }
      ]
    },
    {
      "cell_type": "code",
      "metadata": {
        "colab": {
          "base_uri": "https://localhost:8080/"
        },
        "id": "_jUQhiBfytmW",
        "outputId": "b60e39a2-aa68-47f8-9d06-8331b792d434"
      },
      "source": [
        "country_info\n",
        "\n",
        "for key, value in country_info.items():\n",
        "    print(key, value)\n"
      ],
      "execution_count": null,
      "outputs": [
        {
          "output_type": "stream",
          "text": [
            "Country Name Japan\n",
            "capital Tokyo\n",
            "population 100M\n",
            "regions ['Hokkaido', 'Tohoku', 'Kanto', 'Chubu', 'Kinki', 'Chugoku', 'Shikoku', 'Kyushu-Okinawa']\n",
            "health {'life_expectancy': 84.1, 'birth_rate': 1.44}\n"
          ],
          "name": "stdout"
        }
      ]
    },
    {
      "cell_type": "code",
      "metadata": {
        "colab": {
          "base_uri": "https://localhost:8080/"
        },
        "id": "F05VWX1308IW",
        "outputId": "9e646d5c-a3f3-4de8-b6ec-ba417854bb34"
      },
      "source": [
        "student = {'name': 'John', 'age': 25, 'courses': ['Math', 'CompSci']}\n",
        "\n",
        "for key, value in student.items():\n",
        "    print(key, value)"
      ],
      "execution_count": null,
      "outputs": [
        {
          "output_type": "stream",
          "text": [
            "name John\n",
            "age 25\n",
            "courses ['Math', 'CompSci']\n"
          ],
          "name": "stdout"
        }
      ]
    },
    {
      "cell_type": "code",
      "metadata": {
        "id": "a5Xb6GxM7-iR",
        "colab": {
          "base_uri": "https://localhost:8080/",
          "height": 218
        },
        "outputId": "6c37762c-465c-4e22-f3c6-d2041b70e2c4"
      },
      "source": [
        "plt.plot([1, 2, 3, 4])\n",
        "plt.ylabel('vertical')\n",
        "plt.xlabel('horizontal')\n",
        "plt.show()"
      ],
      "execution_count": null,
      "outputs": [
        {
          "output_type": "error",
          "ename": "NameError",
          "evalue": "ignored",
          "traceback": [
            "\u001b[0;31m---------------------------------------------------------------------------\u001b[0m",
            "\u001b[0;31mNameError\u001b[0m                                 Traceback (most recent call last)",
            "\u001b[0;32m<ipython-input-1-73b6cfac42c4>\u001b[0m in \u001b[0;36m<module>\u001b[0;34m()\u001b[0m\n\u001b[0;32m----> 1\u001b[0;31m \u001b[0mplt\u001b[0m\u001b[0;34m.\u001b[0m\u001b[0mplot\u001b[0m\u001b[0;34m(\u001b[0m\u001b[0;34m[\u001b[0m\u001b[0;36m1\u001b[0m\u001b[0;34m,\u001b[0m \u001b[0;36m2\u001b[0m\u001b[0;34m,\u001b[0m \u001b[0;36m3\u001b[0m\u001b[0;34m,\u001b[0m \u001b[0;36m4\u001b[0m\u001b[0;34m]\u001b[0m\u001b[0;34m)\u001b[0m\u001b[0;34m\u001b[0m\u001b[0;34m\u001b[0m\u001b[0m\n\u001b[0m\u001b[1;32m      2\u001b[0m \u001b[0mplt\u001b[0m\u001b[0;34m.\u001b[0m\u001b[0mylabel\u001b[0m\u001b[0;34m(\u001b[0m\u001b[0;34m'vertical'\u001b[0m\u001b[0;34m)\u001b[0m\u001b[0;34m\u001b[0m\u001b[0;34m\u001b[0m\u001b[0m\n\u001b[1;32m      3\u001b[0m \u001b[0mplt\u001b[0m\u001b[0;34m.\u001b[0m\u001b[0mxlabel\u001b[0m\u001b[0;34m(\u001b[0m\u001b[0;34m'horizontal'\u001b[0m\u001b[0;34m)\u001b[0m\u001b[0;34m\u001b[0m\u001b[0;34m\u001b[0m\u001b[0m\n\u001b[1;32m      4\u001b[0m \u001b[0mplt\u001b[0m\u001b[0;34m.\u001b[0m\u001b[0mshow\u001b[0m\u001b[0;34m(\u001b[0m\u001b[0;34m)\u001b[0m\u001b[0;34m\u001b[0m\u001b[0;34m\u001b[0m\u001b[0m\n",
            "\u001b[0;31mNameError\u001b[0m: name 'plt' is not defined"
          ]
        }
      ]
    }
  ]
}